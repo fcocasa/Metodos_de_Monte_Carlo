{
 "cells": [
  {
   "cell_type": "code",
   "execution_count": 4,
   "id": "0211a4f0",
   "metadata": {},
   "outputs": [
    {
     "name": "stdout",
     "output_type": "stream",
     "text": [
      "Requirement already satisfied: criticalpath in /home/coco/anaconda3/lib/python3.8/site-packages (0.1.5)\n",
      "\u001b[33mWARNING: You are using pip version 22.0.3; however, version 22.0.4 is available.\n",
      "You should consider upgrading via the '/home/coco/anaconda3/bin/python -m pip install --upgrade pip' command.\u001b[0m\u001b[33m\n",
      "\u001b[0m"
     ]
    }
   ],
   "source": [
    "!pip install criticalpath\n",
    "from criticalpath import Node\n",
    "import datetime\n",
    "import pandas as pd\n",
    "import matplotlib.pyplot as plt\n",
    "from matplotlib.patches import Patch\n",
    "import numpy as np\n",
    "from numpy.random import uniform"
   ]
  },
  {
   "cell_type": "markdown",
   "id": "4e2e5c50",
   "metadata": {},
   "source": [
    "## Creo una funcion generica, aplico a todos los Ti"
   ]
  },
  {
   "cell_type": "code",
   "execution_count": 13,
   "id": "a60fabd2",
   "metadata": {},
   "outputs": [],
   "source": [
    "# Esta funcion calcula la esperanza y varianza, dado un tiempo uniforme entre dos \"horas\" y numero \"n\" que será \n",
    "# la cantidad de veces que se \"repetirá\" el experimento\n",
    "def monte_carlo(start,stop,n):\n",
    "    esp = 0\n",
    "    var = 0\n",
    "    for i in range(1,n):\n",
    "        semilla = np.random.uniform(start,stop)\n",
    "        esp += semilla\n",
    "        var += semilla*semilla\n",
    "    esp = esp/n\n",
    "    var = var/(n*(n-1)) - (esp*esp)/(n-1)\n",
    "    return esp, var"
   ]
  },
  {
   "cell_type": "markdown",
   "id": "91640739",
   "metadata": {},
   "source": [
    "### A modo de ejemplo"
   ]
  },
  {
   "cell_type": "code",
   "execution_count": 18,
   "id": "edf0966a",
   "metadata": {},
   "outputs": [
    {
     "name": "stdout",
     "output_type": "stream",
     "text": [
      "La esperanza es 22.51379 y la varianza es 0.00264\n"
     ]
    }
   ],
   "source": [
    "e,v = monte_carlo(20,25,1000)\n",
    "print(\"La esperanza es {:.5f} y la varianza es {:.5f}\".format(e,v))"
   ]
  },
  {
   "cell_type": "markdown",
   "id": "1a8cb5da",
   "metadata": {},
   "source": [
    "## Aplicamos la funcion al conjunto de datos dados"
   ]
  },
  {
   "cell_type": "code",
   "execution_count": 25,
   "id": "d0394f07",
   "metadata": {},
   "outputs": [],
   "source": [
    "tiempos = [[40,56],\n",
    "           [24,32],\n",
    "           [20,40],\n",
    "           [16,48],\n",
    "           [10,30],\n",
    "           [15,30],\n",
    "           [20,25],\n",
    "           [30,50],\n",
    "           [40,60],\n",
    "           [8,16],\n",
    "          ]"
   ]
  },
  {
   "cell_type": "code",
   "execution_count": 51,
   "id": "a83d09db",
   "metadata": {},
   "outputs": [
    {
     "data": {
      "text/plain": [
       "array([[47.77457572],\n",
       "       [27.42108692],\n",
       "       [30.23600484],\n",
       "       [31.59649531],\n",
       "       [19.71769184],\n",
       "       [22.6523909 ],\n",
       "       [22.24889169],\n",
       "       [39.88612363],\n",
       "       [50.09660526],\n",
       "       [12.03836588]])"
      ]
     },
     "execution_count": 51,
     "metadata": {},
     "output_type": "execute_result"
    }
   ],
   "source": [
    "n = 100 # Para la entrega se hace una \"gran funcion\" y se quita esto\n",
    "esperanzas = []\n",
    "for t in tiempos:\n",
    "    e,v = monte_carlo(t[0],t[1],n)\n",
    "    esperanzas = np.append(esperanzas,e)\n",
    "esperanzas.reshape(-1,1)"
   ]
  },
  {
   "cell_type": "markdown",
   "id": "d137f1df",
   "metadata": {},
   "source": [
    "## Camino critico con los datos"
   ]
  },
  {
   "cell_type": "code",
   "execution_count": 45,
   "id": "8edb0f34",
   "metadata": {},
   "outputs": [],
   "source": [
    "p = Node('proyecto')\n",
    "\n",
    "tareas = [(\"T1\", {\"duracion\": esperanzas[0]}), \n",
    "          (\"T2\", {\"duracion\": esperanzas[1]}),\n",
    "          (\"T3\", {\"duracion\": esperanzas[2]}), \n",
    "          (\"T4\", {\"duracion\": esperanzas[3]}), \n",
    "          (\"T5\", {\"duracion\": esperanzas[4]}), \n",
    "          (\"T6\", {\"duracion\": esperanzas[5]}), \n",
    "          (\"T7\", {\"duracion\": esperanzas[6]}), \n",
    "          (\"T8\", {\"duracion\": esperanzas[7]}), \n",
    "          (\"T9\", {\"duracion\": esperanzas[8]}),\n",
    "         (\"T10\", {\"duracion\": esperanzas[9]})]\n",
    "\n",
    "dependencias = [(\"T2\", \"T1\"), \n",
    "                (\"T3\", \"T1\"),\n",
    "                (\"T4\", \"T2\"), \n",
    "                (\"T4\", \"T3\"), \n",
    "                (\"T5\", \"T2\"), \n",
    "                (\"T5\", \"T3\"), \n",
    "                (\"T6\", \"T3\"),\n",
    "                (\"T7\", \"T3\"), \n",
    "                (\"T8\", \"T4\"), \n",
    "                (\"T8\", \"T5\"), \n",
    "                (\"T8\", \"T6\"), \n",
    "                (\"T8\", \"T7\"), \n",
    "                (\"T9\", \"T5\"),\n",
    "               (\"T10\", \"T7\"),\n",
    "               (\"T10\", \"T8\"),\n",
    "               (\"T10\", \"T9\")]\n",
    "\n",
    "# Cargar al proyecto las tareas y sus duraciones\n",
    "for i in tareas:\n",
    "    p.add(Node(i[0], duration=i[1][\"duracion\"]))\n",
    "\n",
    "# Cargar al proyecto sus dependencias (secuencias)\n",
    "for j in dependencias:\n",
    "    p.link(j[0],j[1])\n",
    "\n",
    "# Actualizar el proyecto:\n",
    "p.update_all()"
   ]
  },
  {
   "cell_type": "code",
   "execution_count": 46,
   "id": "e9846d60",
   "metadata": {},
   "outputs": [
    {
     "data": {
      "text/plain": [
       "[T10, T8, T4, T3, T1]"
      ]
     },
     "execution_count": 46,
     "metadata": {},
     "output_type": "execute_result"
    }
   ],
   "source": [
    "p.get_critical_path()"
   ]
  },
  {
   "cell_type": "code",
   "execution_count": 50,
   "id": "f9febc97",
   "metadata": {},
   "outputs": [
    {
     "name": "stdout",
     "output_type": "stream",
     "text": [
      "El tiempo estimado en el que se terminaria la construccion seria 160.581\n"
     ]
    }
   ],
   "source": [
    "print(\"El tiempo estimado en el que se terminaria la construccion seria {:.3f}\".format(p.duration))"
   ]
  }
 ],
 "metadata": {
  "kernelspec": {
   "display_name": "Python 3 (ipykernel)",
   "language": "python",
   "name": "python3"
  },
  "language_info": {
   "codemirror_mode": {
    "name": "ipython",
    "version": 3
   },
   "file_extension": ".py",
   "mimetype": "text/x-python",
   "name": "python",
   "nbconvert_exporter": "python",
   "pygments_lexer": "ipython3",
   "version": "3.8.8"
  }
 },
 "nbformat": 4,
 "nbformat_minor": 5
}
